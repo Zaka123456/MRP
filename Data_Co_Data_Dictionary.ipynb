{
  "nbformat": 4,
  "nbformat_minor": 0,
  "metadata": {
    "colab": {
      "provenance": [],
      "include_colab_link": true
    },
    "kernelspec": {
      "name": "python3",
      "display_name": "Python 3"
    },
    "language_info": {
      "name": "python"
    }
  },
  "cells": [
    {
      "cell_type": "markdown",
      "metadata": {
        "id": "view-in-github",
        "colab_type": "text"
      },
      "source": [
        "<a href=\"https://colab.research.google.com/github/Zaka123456/MRP/blob/main/Data_Co_Data_Dictionary.ipynb\" target=\"_parent\"><img src=\"https://colab.research.google.com/assets/colab-badge.svg\" alt=\"Open In Colab\"/></a>"
      ]
    },
    {
      "cell_type": "markdown",
      "source": [
        "**Link to dataset**\n",
        "\n",
        "https://www.kaggle.com/datasets/shashwatwork/dataco-smart-supply-chain-for-big-data-analysis\n",
        "\n"
      ],
      "metadata": {
        "id": "_9sDTnIYME6f"
      }
    },
    {
      "cell_type": "markdown",
      "source": [
        "**Dataset Description**\n",
        "\n",
        "Datasets are taken from Kaggle. Primary dataset consist of 51 columns and 180520 rows. It cover around three years of data (2015-2017) and target variable is \"sales\" in the 37th column”.\n",
        "\n",
        "The Days for shipment (actual), Benefit per order, Sales\n",
        "per customer, Category Name, Customer Country, Department Name, order date (DateOrders), Sales, Order Item Total, and Product Name are the data set's most crucial attributes"
      ],
      "metadata": {
        "id": "whTzlGbtMRtn"
      }
    },
    {
      "cell_type": "markdown",
      "source": [
        "**Data Dictionary**\n",
        "\n",
        "FIELDS :\tDESCRIPTION\n",
        "\n",
        "Type\t:  Type of transaction made\n",
        "\n",
        "Days for shipping (real)     \t:  Actual shipping days of the purchased product\n",
        "\n",
        "Days for shipment (scheduled)\t:  Days of scheduled delivery of the purchased product\n",
        "\n",
        "Benefit per order\t:  Earnings per order placed\n",
        "\n",
        "Sales per customer\t:  Total sales per customer made per customer\n",
        "\n",
        "Delivery Status\t:  Delivery status of orders: Advance shipping , Late delivery , Shipping canceled , Shipping on time\n",
        "\n",
        "Late_delivery_risk :  Categorical variable that indicates if sending is late (1), it is not late (0).\n",
        "\n",
        "Category Id\t:  Product category code\n",
        "\n",
        "Category Name\t:  Description of the product category\n",
        "\n",
        "Customer City\t:  City where the customer made the purchase\n",
        "\n",
        "Customer Country\t:  Country where the customer made the purchase\n",
        "\n",
        "Customer Email\t:  Customer's email\n",
        "\n",
        "Customer Fname\t:  Customer name\n",
        "\n",
        "Customer Id\t:  Customer ID\n",
        "\n",
        "Customer Lname\t:  Customer lastname\n",
        "\n",
        "Customer Password\t:  Masked customer key\n",
        "\n",
        "Customer Segment\t:  Types of Customers: Consumer , Corporate , Home Office\n",
        "\n",
        "Customer State\t:  State to which the store where the purchase is registered belongs\n",
        "\n",
        "Customer Street\t:  Street to which the store where the purchase is registered belongs\n",
        "\n",
        "Customer Zipcode\t:  Customer Zipcode\n",
        "\n",
        "Department Id\t:  Department code of store\n",
        "\n",
        "Department Name\t:  Department name of store\n",
        "\n",
        "Latitude\t:  Latitude corresponding to location of store\n",
        "\n",
        "Longitude\t:  Longitude corresponding to location of store\n",
        "\n",
        "Market\t:  Market to where the order is delivered : Africa , Europe , LATAM , Pacific Asia , USCA\n",
        "\n",
        "Order City\t:  Destination city of the order\n",
        "\n",
        "Order Country\t:  Destination country of the order\n",
        "\n",
        "Order Customer Id\t:  Customer order code\n",
        "\n",
        "order date (DateOrders)\t:  Date on which the order is made\n",
        "\n",
        "Order Id\t:  Order code\n",
        "\n",
        "Order Item Cardprod Id\t:  Product code generated through the RFID reader\n",
        "\n",
        "Order Item Discount\t:  Order item discount value\n",
        "\n",
        "Order Item Discount Rate     \t:  Order item discount percentage\n",
        "\n",
        "Order Item Id\t:  Order item code\n",
        "\n",
        "Order Item Product Price     \t:  Price of products without discount\n",
        "\n",
        "Order Item Profit Ratio\t:  Order Item Profit Ratio\n",
        "\n",
        "Order Item Quantity\t:  Number of products per order\n",
        "\n",
        "**Sales\t:  Value in sales**\n",
        "\n",
        "Order Item Total  \t:  Total amount per order\n",
        "\n",
        "Order Profit Per Order\t:  Order Profit Per Order\n",
        "\n",
        "Order Region\t:  Region of the world where the order is delivered :  Southeast Asia ,South Asia ,Oceania ,Eastern Asia, West Asia , West of USA , US Center , West Africa, Central Africa ,North Africa ,Western Europe ,Northern , Caribbean , South America ,East Africa ,Southern Europe , East of USA ,Canada ,Southern Africa , Central Asia ,  Europe , Central America, Eastern Europe , South of  USA\n",
        "\n",
        "Order State\t:  State of the region where the order is delivered\n",
        "\n",
        "Order Status\t:  Order Status : COMPLETE , PENDING , CLOSED , PENDING_PAYMENT ,CANCELED , PROCESSING ,SUSPECTED_FRAUD ,ON_HOLD ,PAYMENT_REVIEW\n",
        "\n",
        "Product Card Id\t:  Product code\n",
        "\n",
        "Product Category Id\t:  Product category code\n",
        "\n",
        "Product Description\t:  Product Description\n",
        "\n",
        "Product Image\t:  Link of visit and purchase of the product\n",
        "\n",
        "Product Name\t:  Product Name\n",
        "\n",
        "Product Price\t:  Product Price\n",
        "\n",
        "Product Status\t:  Status of the product stock :If it is 1 not available , 0 the product is available\n",
        "\n",
        "Shipping date (DateOrders) :  Exact date and time of shipment\n",
        "\n",
        "Shipping Mode\t:  The following shipping modes are presented : Standard Class , First Class , Second Class , Same Day\n",
        "\n",
        "\n",
        "\n"
      ],
      "metadata": {
        "id": "-RO5YhfoMdBd"
      }
    }
  ]
}
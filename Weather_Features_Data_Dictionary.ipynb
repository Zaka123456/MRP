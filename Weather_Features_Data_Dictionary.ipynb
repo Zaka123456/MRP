{
  "nbformat": 4,
  "nbformat_minor": 0,
  "metadata": {
    "colab": {
      "provenance": [],
      "include_colab_link": true
    },
    "kernelspec": {
      "name": "python3",
      "display_name": "Python 3"
    },
    "language_info": {
      "name": "python"
    }
  },
  "cells": [
    {
      "cell_type": "markdown",
      "metadata": {
        "id": "view-in-github",
        "colab_type": "text"
      },
      "source": [
        "<a href=\"https://colab.research.google.com/github/Zaka123456/MRP/blob/main/Weather_Features_Data_Dictionary.ipynb\" target=\"_parent\"><img src=\"https://colab.research.google.com/assets/colab-badge.svg\" alt=\"Open In Colab\"/></a>"
      ]
    },
    {
      "cell_type": "markdown",
      "source": [
        "**Link to dataset**\n",
        "https://www.visualcrossing.com/resources/documentation/weather-api/timeline-weather-api/\n",
        "\n"
      ],
      "metadata": {
        "id": "_9sDTnIYME6f"
      }
    },
    {
      "cell_type": "markdown",
      "source": [
        "**Dataset Description**\n",
        "\n",
        "Selected response weather data elements are taken from https://www.visualcrossing.com/resources/documentation/weather-api/timeline-weather-api/"
      ],
      "metadata": {
        "id": "0Y0RNFl3ZuFC"
      }
    },
    {
      "cell_type": "markdown",
      "source": [
        "**Data Dictionary**\n",
        "\n",
        "FIELDS :\tDESCRIPTION\n",
        "\n",
        "cloudcover – how much of the sky is covered in cloud ranging from 0-100%\n",
        "\n",
        "datetime – ISO 8601 formatted date, time or datetime value indicating the date and time of the weather data in the local time zone of the requested location. See Dates and Times in the Weather API for more information.\n",
        "\n",
        "humidity – relative humidity in %\n",
        "\n",
        "precip – the amount of liquid precipitation that fell or is predicted to fall in the period. This includes the liquid-equivalent amount of any frozen precipitation such as snow or ice.\n",
        "\n",
        "preciptype – an array indicating the type(s) of precipitation expected or that occurred. Possible values include rain, snow, freezingrain and ice.\n",
        "\n",
        "snow – the amount of snow that fell or is predicted to fall\n",
        "\n",
        "temp – temperature at the location. Daily values are average values (mean) for the day.\n",
        "\n",
        "tempmax (day only) – maximum temperature at the location.\n",
        "\n",
        "tempmin (day only) – minimum temperature at the location.\n",
        "\n",
        "windspeed – the sustained wind speed measured as the average windspeed that occurs during the preceding one to two minutes. Daily values are the maximum hourly value for the day.\n",
        "\n",
        "solarradiation – (W/m2) the solar radiation power at the instantaneous moment of the observation (or forecast prediction). See the full solar radiation data documentation and Wind and Solar Energy pages .\n",
        "\n",
        "latitude,longitude – the latitude and longitude of the requested location. This is provided in decimal degrees.\n",
        "\n",
        "Weather Data Features with Units (2015–2017)\n",
        "Field\tDescription\tUnit\n",
        "\n",
        "datetime\tDate of the weather record (local date)\tISO 8601 format (YYYY-MM-DD)\n",
        "\n",
        "latitude\tLatitude of the location where weather was collected\tDecimal degrees (°)\n",
        "\n",
        "longitude\tLongitude of the location where weather was collected\tDecimal degrees (°)\n",
        "\n",
        "tempmax\tMaximum daily temperature\tDegrees Fahrenheit (°F)\n",
        "\n",
        "tempmin\tMinimum daily temperature\tDegrees Fahrenheit (°F)\n",
        "\n",
        "temp\tMean (average) daily temperature\tDegrees Fahrenheit (°F)\n",
        "\n",
        "humidity\tAverage daily relative humidity\tPercentage (%)\n",
        "\n",
        "precip\tTotal daily precipitation\tInches (in)\n",
        "\n",
        "preciptype\tType of precipitation (e.g., \"rain\", \"snow\", \"mixed\")\tCategorical (string)\n",
        "\n",
        "snow\tSnowfall amount\tInches (in)\n",
        "\n",
        "windspeed\tAverage daily wind speed\tMiles per hour (mph)\n",
        "\n",
        "cloudcover\tAverage daily cloud cover\tPercentage (%)\n",
        "\n",
        "solarradiation\tAverage daily solar radiation\tWatts per square meter (W/m²)\n",
        "\n",
        "year\tYear of the observation (for filtering/merging)\tInteger (e.g., 2017)"
      ],
      "metadata": {
        "id": "-RO5YhfoMdBd"
      }
    },
    {
      "cell_type": "code",
      "source": [],
      "metadata": {
        "id": "M9VfjEYCyqFg"
      },
      "execution_count": null,
      "outputs": []
    }
  ]
}